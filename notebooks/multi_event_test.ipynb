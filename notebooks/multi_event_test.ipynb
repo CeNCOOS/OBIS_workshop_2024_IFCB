{
 "cells": [
  {
   "cell_type": "code",
   "execution_count": 51,
   "metadata": {},
   "outputs": [],
   "source": [
    "import numpy as np\n",
    "import pandas as pd\n",
    "import pyworms\n",
    "import requests\n",
    "import json\n",
    "import os\n",
    "import pyworms\n",
    "import math"
   ]
  },
  {
   "cell_type": "code",
   "execution_count": 52,
   "metadata": {},
   "outputs": [],
   "source": [
    "def get_datasets(dashboard_url):\n",
    "    \"\"\"Return a list dashboard datasets from the API\n",
    "\n",
    "    Args:\n",
    "        dashboard_url (str): base url of an IFCB dashboard (V2)\n",
    "    \n",
    "    Returns:\n",
    "        list: list of dataset names\n",
    "    \"\"\"\n",
    "    request_rul = os.path.join(dashboard_url, 'api/filter_options')\n",
    "    response=requests.get(request_rul)\n",
    "    content=response.content\n",
    "    content=json.loads(content)\n",
    "    \n",
    "    return content['dataset_options']\n",
    "\n",
    "def get_bins_in_range(start_date, end_date, dataset_name, base_dashboard_url='https://ifcb.caloos.org'):\n",
    "    \"\"\" Given a start date and end date, request all of the ifcb sampled from a given instrument feed\n",
    "\n",
    "    Args:\n",
    "        start_date (str): Start date string in the form of yyyy-mm-dd\n",
    "        end_date (str): End date string in the form of yyyy-mm-dd\n",
    "    Returns: \n",
    "        (pd.DataFrame): dataframe with a series of bin ids \n",
    "    \"\"\"\n",
    "    # Dates should be of the \n",
    "    url = f\"{base_dashboard_url}/{dataset_name}/api/feed/temperature/start/{start_date}/end/{end_date}\"\n",
    "    response=requests.get(url)\n",
    "    \n",
    "    if response.status_code==200:\n",
    "        content=response.content\n",
    "        content=json.loads(content)\n",
    "        content=pd.DataFrame.from_dict(content)\n",
    "        content[\"pid\"]=content[\"pid\"].map(lambda x: x.lstrip(f\"{base_dashboard_url}/{dataset_name}/\"))\n",
    "        content=content[\"pid\"]\n",
    "        return(content)\n",
    "    \n",
    "    else:\n",
    "        print('Failed to get all bins with range with code: '+response.status_code)\n",
    "        return(response.status_code)\n",
    "    \n",
    "    \n",
    "def get_ifcb_metadata(bin, base_dashboard_url='https://ifcb.caloos.org'):    \n",
    "    \"\"\" Return metadata for a given bin using the dashboard API (V2)\n",
    "    Args:\n",
    "        bin (str): bin id to get metadata. Bins are in the form of DYYYYMMDDTHHmmss_IFCBNNN (ex. D20230717T000942_IFCB104)\n",
    "        base_dashboard_url (str): base url of an IFCB dashboard (V2)\n",
    "    Returns:\n",
    "        dict: Returns a dictionary of metadata for a given bin\n",
    "    \"\"\"\n",
    "    request_url = f\"{base_dashboard_url}/api/metadata/{bin}\"\n",
    "    1\n",
    "    response=requests.get(request_url)\n",
    "    \n",
    "    if response.status_code==200:\n",
    "        content=response.content\n",
    "        content=json.loads(content)\n",
    "    \n",
    "    else:\n",
    "        print(\"Metadata GET request failed with code: \"+str(response.status_code))\n",
    "        content = response.status_code\n",
    "        \n",
    "    return content\n",
    "\n",
    "def get_bin_details(bin, base_dashboard_url='https://ifcb.caloos.org'):\n",
    "    \"\"\" Return information about a bin using the dashboard API (V2)\n",
    "\n",
    "    Args:\n",
    "        bin (str): bin id to get metadata. Bins are in the form of DYYYYMMDDTHHmmss_IFCBNNN (ex. D20230717T000942_IFCB104)\n",
    "        base_dashboard_url (str, optional): _description_. Defaults to 'https://ifcb.caloos.org'.\n",
    "\n",
    "    Returns:\n",
    "        _type_: _description_\n",
    "    \"\"\"\n",
    "    url = f\"{base_dashboard_url}/api/bin/{bin}\"\n",
    "    \n",
    "    response=requests.get(url)\n",
    "    \n",
    "    if response.status_code==200:\n",
    "        content = response.content\n",
    "        content = json.loads(content)\n",
    "        # newdict = {\"bin_id\":bin}\n",
    "        # newdict.update(content)\n",
    "        content\n",
    "    \n",
    "    else:\n",
    "        print(\"Bin neighbors GET request failed with code: \"+str(response.status_code))\n",
    "        content = None\n",
    "    return content\n",
    "\n",
    "def bin_has_autoclass(bin, base_dashboard_url='https://ifcb.caloos.org'):\n",
    "    \"\"\"return boolean if a bin has autoclassification results\n",
    "\n",
    "    Args:\n",
    "        bin (str): bin id to get metadata. Bins are in the form of DYYYYMMDDTHHmmss_IFCBNNN (ex. D20230717T000942_IFCB104)\n",
    "        base_dashboard_url (str, optional): base url of an IFCB dashboard (V2). Defaults to 'https://ifcb.caloos.org'.\n",
    "\n",
    "    Returns:\n",
    "        boolean: True if dahsboard has autoclassification results for bin, False otherwise\n",
    "    \"\"\"\n",
    "   \n",
    "    url = f\"{base_dashboard_url}/api/has_products/{bin}\"\n",
    "    response=requests.get(url)\n",
    "    \n",
    "    if response.status_code==200:\n",
    "        content=response.content\n",
    "        content=json.loads(content)       \n",
    "        class_score = content['has_class_scores']\n",
    "    \n",
    "    else:\n",
    "        print('Autclass GET faile with code: '+str(response.status_code))\n",
    "        class_score = None\n",
    "        \n",
    "    return class_score\n",
    "\n",
    "def get_autoclass_data(bin,dataset_name, base_url='https://ifcb.caloos.org'):\n",
    "    \"\"\"Return autoclassification data for a given bin\n",
    "\n",
    "    Args:\n",
    "        bin (str): bin id to get metadata. Bins are in the form of DYYYYMMDDTHHmmss_IFCBNNN (ex. D20230717T000942_IFCB104)\n",
    "        base_url (str, optional): base url of an IFCB dashboard (V2). Defaults to 'https://ifcb.caloos.org'.\n",
    "\n",
    "    Returns:\n",
    "        dict: dictionary of autoclassification data\n",
    "    \"\"\"\n",
    "    try:\n",
    "        url = f\"{base_url}/{dataset_name}/{bin}_class_scores.csv\"\n",
    "        df = pd.read_csv(url)\n",
    "        \n",
    "    except Exception as e:\n",
    "        print(f\"Failed to get autoclassification data for bin {bin} with error: {e}\")\n",
    "        df = None\n",
    "        \n",
    "    return df\n",
    "\n",
    "def get_feature_file(bin, dataset_name, base_url='https://ifcb.caloos.org'):\n",
    "    \"\"\"Return feature file for a given bin\n",
    "\n",
    "    Args:\n",
    "        bin (str): bin id to get metadata. Bins are in the form of DYYYYMMDDTHHmmss_IFCBNNN (ex. D20230717T000942_IFCB104)\n",
    "        base_url (str, optional): base url of an IFCB dashboard (V2). Defaults to 'https://ifcb.caloos.org'.\n",
    "\n",
    "    Returns:\n",
    "        pd.DataFrame: feature file for a given bin\n",
    "    \"\"\"\n",
    "    try:\n",
    "        url = f\"{base_url}/{dataset_name}/{bin}_features.csv\"\n",
    "        df = pd.read_csv(url)\n",
    "        \n",
    "    except Exception as e:\n",
    "        print(f\"Failed to get feature file for bin {bin} with error: {e}\")\n",
    "        df = None\n",
    "        \n",
    "    return df\n"
   ]
  },
  {
   "cell_type": "code",
   "execution_count": 53,
   "metadata": {},
   "outputs": [
    {
     "data": {
      "text/plain": [
       "['bloofinz-io',\n",
       " 'bodega-marine-lab',\n",
       " 'calcofi-cruises-ctd',\n",
       " 'calcofi-cruises-underway',\n",
       " 'cal-poly-humboldt-hioc',\n",
       " 'cce-lter-process-cruises-ifcb-151',\n",
       " 'del-mar-mooring',\n",
       " 'mbari-power-buoy',\n",
       " 'newport-beach-pier',\n",
       " 'plumes-and-blooms-cruises',\n",
       " 'san-francisco-bay-cruises',\n",
       " 'san-francisco-pier-17',\n",
       " 'santa-cruz-municipal-wharf',\n",
       " 'scripps-pier-ifcb-151',\n",
       " 'scripps-pier-ifcb-158',\n",
       " 'scripps-pier-ifcb-183',\n",
       " 'stearns-wharf']"
      ]
     },
     "execution_count": 53,
     "metadata": {},
     "output_type": "execute_result"
    }
   ],
   "source": [
    "base_url='https://ifcb.caloos.org/'\n",
    "\n",
    "dataset_names = get_datasets(base_url)\n",
    "scw_datset = dataset_names[12]\n",
    "dataset_names"
   ]
  },
  {
   "cell_type": "code",
   "execution_count": 54,
   "metadata": {},
   "outputs": [
    {
     "name": "stdout",
     "output_type": "stream",
     "text": [
      "n files: 58\n",
      "0    D20230717T000942_IFCB104\n",
      "1    D20230717T003329_IFCB104\n",
      "2    D20230717T005715_IFCB104\n",
      "3    D20230717T012101_IFCB104\n",
      "4    D20230717T014447_IFCB104\n",
      "Name: pid, dtype: object\n"
     ]
    }
   ],
   "source": [
    "DATASET = scw_datset\n",
    "start_date = \"2023-07-17\"\n",
    "end_date = \"2023-07-18\"\n",
    "\n",
    "range_response = get_bins_in_range(start_date=start_date, end_date=end_date, dataset_name=DATASET)\n",
    "print(f\"n files: {len(range_response)}\\n{range_response.head()}\")"
   ]
  },
  {
   "cell_type": "markdown",
   "metadata": {},
   "source": [
    "Test run for all pids but mostly all the same."
   ]
  },
  {
   "cell_type": "code",
   "execution_count": 56,
   "metadata": {},
   "outputs": [],
   "source": [
    "lr=len(range_response)\n",
    "ia=0\n",
    "for n in np.arange(0,lr):\n",
    "    if bin_has_autoclass(bin=range_response.iloc[n]):\n",
    "        mtmp = get_ifcb_metadata(range_response.iloc[n])\n",
    "        mtmp=pd.DataFrame.from_dict(mtmp)\n",
    "        mtmp=mtmp.T\n",
    "        ac=get_autoclass_data(bin=range_response.iloc[n],dataset_name=DATASET)\n",
    "        if ia==0:\n",
    "            metadatavals=mtmp\n",
    "            auto_class=ac\n",
    "            ia=1\n",
    "        else:\n",
    "            metadatavals=pd.concat([metadatavals,mtmp])\n",
    "            autoclass=pd.concat([auto_class,ac])\n",
    "#metadatavals['metadata'].keys()"
   ]
  },
  {
   "cell_type": "code",
   "execution_count": null,
   "metadata": {},
   "outputs": [],
   "source": [
    "#ia=0\n",
    "#for n in np.arange(0,lr):\n",
    "#    if bin_has_autoclass(bin=range_response.iloc[n]):\n",
    "#        ac=get_autoclass_data(bin=range_response.iloc[n],dataset_name=DATASET)\n",
    "#        if ia==0:\n",
    "#            auto_class=ac\n",
    "#            ia=1\n",
    "#        else:\n",
    "#            auto_class=pd.concat([auto_class,ac])"
   ]
  },
  {
   "cell_type": "code",
   "execution_count": 57,
   "metadata": {},
   "outputs": [
    {
     "data": {
      "text/plain": [
       "(2951, 52)"
      ]
     },
     "execution_count": 57,
     "metadata": {},
     "output_type": "execute_result"
    }
   ],
   "source": [
    "auto_class.shape"
   ]
  },
  {
   "cell_type": "code",
   "execution_count": 58,
   "metadata": {},
   "outputs": [
    {
     "data": {
      "text/plain": [
       "(31, 129)"
      ]
     },
     "execution_count": 58,
     "metadata": {},
     "output_type": "execute_result"
    }
   ],
   "source": [
    "metadatavals.shape"
   ]
  },
  {
   "cell_type": "markdown",
   "metadata": {},
   "source": [
    "Not sure why shapes don't have one common count"
   ]
  },
  {
   "cell_type": "code",
   "execution_count": null,
   "metadata": {},
   "outputs": [],
   "source": []
  }
 ],
 "metadata": {
  "kernelspec": {
   "display_name": "Python 3",
   "language": "python",
   "name": "python3"
  },
  "language_info": {
   "codemirror_mode": {
    "name": "ipython",
    "version": 3
   },
   "file_extension": ".py",
   "mimetype": "text/x-python",
   "name": "python",
   "nbconvert_exporter": "python",
   "pygments_lexer": "ipython3",
   "version": "3.11.7"
  }
 },
 "nbformat": 4,
 "nbformat_minor": 2
}
