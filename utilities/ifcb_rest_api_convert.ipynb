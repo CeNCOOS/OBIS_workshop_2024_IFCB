{
 "cells": [
  {
   "cell_type": "code",
   "execution_count": null,
   "metadata": {},
   "outputs": [],
   "source": [
    "# these are python translations of Ian Brunjes IFCB R code from OBIS Workshop 2023"
   ]
  },
  {
   "cell_type": "code",
   "execution_count": 1,
   "metadata": {},
   "outputs": [],
   "source": [
    "import requests\n",
    "import json"
   ]
  },
  {
   "cell_type": "code",
   "execution_count": null,
   "metadata": {},
   "outputs": [],
   "source": [
    "#import pyworms"
   ]
  },
  {
   "cell_type": "code",
   "execution_count": null,
   "metadata": {},
   "outputs": [],
   "source": [
    "#help(pyworms)"
   ]
  },
  {
   "cell_type": "code",
   "execution_count": 2,
   "metadata": {},
   "outputs": [],
   "source": [
    "# Ian's OBIS workshop R code translated to pytnon\n",
    "def get_ifcb_metadata(bin):\n",
    "    url=\"https://ifcb.caloos.org/api/metadata/\"\n",
    "    bin_url=url+bin\n",
    "    response=requests.get(bin_url)\n",
    "    if response.status_code==200:\n",
    "        content=response.content\n",
    "        content=json.loads(content)\n",
    "        return(content)\n",
    "    else:\n",
    "        print(\"Metadata GET request failed with code: \"+response.status_code)\n",
    "        return(response.status_code)"
   ]
  },
  {
   "cell_type": "code",
   "execution_count": 3,
   "metadata": {},
   "outputs": [],
   "source": [
    "bin='D20230326T150748_IFCB158'"
   ]
  },
  {
   "cell_type": "code",
   "execution_count": 4,
   "metadata": {},
   "outputs": [],
   "source": [
    "x=get_ifcb_metadata(bin)"
   ]
  },
  {
   "cell_type": "code",
   "execution_count": 15,
   "metadata": {},
   "outputs": [],
   "source": [
    "# Ian's OBIS Workshop R code translated to python\n",
    "def bin_has_autoclass(bin):\n",
    "    url='https://ifcb.caloos.org/api/has_products/'\n",
    "    bin_url=url+bin\n",
    "    response=requests.get(bin_url)\n",
    "    if response.status_code==200:\n",
    "        content=response.content\n",
    "        content=json.loads(content)       \n",
    "        return(content['has_class_scores'])\n",
    "    else:\n",
    "        print('Autclass GET faile with code: '+response.status_code)\n",
    "        return(response.status_code)"
   ]
  },
  {
   "cell_type": "code",
   "execution_count": 16,
   "metadata": {},
   "outputs": [],
   "source": [
    "test=bin_has_autoclass(bin)"
   ]
  },
  {
   "cell_type": "code",
   "execution_count": 17,
   "metadata": {},
   "outputs": [
    {
     "data": {
      "text/plain": [
       "True"
      ]
     },
     "execution_count": 17,
     "metadata": {},
     "output_type": "execute_result"
    }
   ],
   "source": [
    "test"
   ]
  },
  {
   "cell_type": "code",
   "execution_count": 26,
   "metadata": {},
   "outputs": [],
   "source": [
    "# Ian's read autoclass function translated to python\n",
    "import pandas as pd\n",
    "import numpy as np\n",
    "# Note labels is a list something like labels=[\"pid\",\"Alexandrium_catenella\"] \n",
    "def read_autoclass_csv(bin,labels):\n",
    "    url='https://ifcb.caloos.org/del-mar-mooring/' # place holder for the moment will use SC Wharf\n",
    "    file_name=bin+\"_class_scores.csv\"\n",
    "    bin_url=url+file_name\n",
    "    try:\n",
    "        autoclass=pd.read_csv(bin_url)\n",
    "        if len(labels > 0):\n",
    "            autoclass=autoclass[labels]\n",
    "            return(autoclass)\n",
    "        else:\n",
    "            print(\"Target labels must be supplied (i.e column headers)\")\n",
    "            return(np.nan)\n",
    "    except:\n",
    "        print(\"Failed to read autoclass csv for bin \"+bin)\n",
    "        return(np.nan)"
   ]
  },
  {
   "cell_type": "code",
   "execution_count": 35,
   "metadata": {},
   "outputs": [],
   "source": [
    "# Another of Ian's functions translated to python\n",
    "def get_bin_details(bin):\n",
    "    url=\"https://ifcb.caloos.org/api/bin/\"\n",
    "    bin_url=url+bin\n",
    "    response=requests.get(bin_url)\n",
    "    if response.status_code==200:\n",
    "        content=response.content\n",
    "        content=json.loads(content)\n",
    "        newdict={\"bin_id\":bin}\n",
    "        newdict.update(content)\n",
    "        return(newdict)\n",
    "    else:\n",
    "        print(\"Bin neighbors GET request failed with code: \"+response.status_code)\n",
    "        return(response.status_code)"
   ]
  },
  {
   "cell_type": "code",
   "execution_count": 36,
   "metadata": {},
   "outputs": [],
   "source": [
    "anothertest=get_bin_details(\"D20230326T150748_IFCB158\")"
   ]
  },
  {
   "cell_type": "code",
   "execution_count": 56,
   "metadata": {},
   "outputs": [],
   "source": [
    "# Date range IDs using Ian's function translated to python\n",
    "def get_bins_in_range(start_date,end_date):\n",
    "    # Dates should be of the form yyyy-mm-dd\n",
    "    url=\"https://ifcb.caloos.org/del-mar-mooring/api/feed/temperature/start/\"+start_date+\"/end/\"+end_date\n",
    "    response=requests.get(url)\n",
    "    if response.status_code==200:\n",
    "        content=response.content\n",
    "        content=json.loads(content)\n",
    "        content=pd.DataFrame.from_dict(content)\n",
    "        content[\"pid\"]=content[\"pid\"].map(lambda x: x.lstrip(\"http://ifcb.caloos.org/del-mar-mooring/\"))\n",
    "        content=content[\"pid\"]\n",
    "        return(content)\n",
    "    else:\n",
    "        print('Failed to get all bins with range with code: '+response.status_code)\n",
    "        return(response.status_code)"
   ]
  },
  {
   "cell_type": "code",
   "execution_count": 57,
   "metadata": {},
   "outputs": [],
   "source": [
    "adict=get_bins_in_range(\"2021-09-25\", \"2021-09-27\")"
   ]
  },
  {
   "cell_type": "code",
   "execution_count": 58,
   "metadata": {},
   "outputs": [
    {
     "data": {
      "text/plain": [
       "0     D20210925T001302_IFCB158\n",
       "1     D20210925T031303_IFCB158\n",
       "2     D20210925T061303_IFCB158\n",
       "3     D20210925T091303_IFCB158\n",
       "4     D20210925T121306_IFCB158\n",
       "5     D20210925T151304_IFCB158\n",
       "6     D20210925T181304_IFCB158\n",
       "7     D20210925T211305_IFCB158\n",
       "8     D20210926T001304_IFCB158\n",
       "9     D20210926T031304_IFCB158\n",
       "10    D20210926T061303_IFCB158\n",
       "11    D20210926T091303_IFCB158\n",
       "12    D20210926T121304_IFCB158\n",
       "13    D20210926T151303_IFCB158\n",
       "14    D20210926T181303_IFCB158\n",
       "15    D20210926T211303_IFCB158\n",
       "Name: pid, dtype: object"
      ]
     },
     "execution_count": 58,
     "metadata": {},
     "output_type": "execute_result"
    }
   ],
   "source": [
    "adict"
   ]
  },
  {
   "cell_type": "code",
   "execution_count": 50,
   "metadata": {},
   "outputs": [
    {
     "data": {
      "text/html": [
       "<div>\n",
       "<style scoped>\n",
       "    .dataframe tbody tr th:only-of-type {\n",
       "        vertical-align: middle;\n",
       "    }\n",
       "\n",
       "    .dataframe tbody tr th {\n",
       "        vertical-align: top;\n",
       "    }\n",
       "\n",
       "    .dataframe thead th {\n",
       "        text-align: right;\n",
       "    }\n",
       "</style>\n",
       "<table border=\"1\" class=\"dataframe\">\n",
       "  <thead>\n",
       "    <tr style=\"text-align: right;\">\n",
       "      <th></th>\n",
       "      <th>pid</th>\n",
       "      <th>date</th>\n",
       "      <th>temperature</th>\n",
       "    </tr>\n",
       "  </thead>\n",
       "  <tbody>\n",
       "    <tr>\n",
       "      <th>0</th>\n",
       "      <td>http://ifcb.caloos.org/del-mar-mooring/D202109...</td>\n",
       "      <td>2021-09-25T00:13:02Z</td>\n",
       "      <td>20.795277</td>\n",
       "    </tr>\n",
       "    <tr>\n",
       "      <th>1</th>\n",
       "      <td>http://ifcb.caloos.org/del-mar-mooring/D202109...</td>\n",
       "      <td>2021-09-25T03:13:03Z</td>\n",
       "      <td>21.325848</td>\n",
       "    </tr>\n",
       "    <tr>\n",
       "      <th>2</th>\n",
       "      <td>http://ifcb.caloos.org/del-mar-mooring/D202109...</td>\n",
       "      <td>2021-09-25T06:13:03Z</td>\n",
       "      <td>21.645189</td>\n",
       "    </tr>\n",
       "    <tr>\n",
       "      <th>3</th>\n",
       "      <td>http://ifcb.caloos.org/del-mar-mooring/D202109...</td>\n",
       "      <td>2021-09-25T09:13:03Z</td>\n",
       "      <td>21.432295</td>\n",
       "    </tr>\n",
       "    <tr>\n",
       "      <th>4</th>\n",
       "      <td>http://ifcb.caloos.org/del-mar-mooring/D202109...</td>\n",
       "      <td>2021-09-25T12:13:06Z</td>\n",
       "      <td>21.219401</td>\n",
       "    </tr>\n",
       "    <tr>\n",
       "      <th>5</th>\n",
       "      <td>http://ifcb.caloos.org/del-mar-mooring/D202109...</td>\n",
       "      <td>2021-09-25T15:13:04Z</td>\n",
       "      <td>20.687166</td>\n",
       "    </tr>\n",
       "    <tr>\n",
       "      <th>6</th>\n",
       "      <td>http://ifcb.caloos.org/del-mar-mooring/D202109...</td>\n",
       "      <td>2021-09-25T18:13:04Z</td>\n",
       "      <td>20.687166</td>\n",
       "    </tr>\n",
       "    <tr>\n",
       "      <th>7</th>\n",
       "      <td>http://ifcb.caloos.org/del-mar-mooring/D202109...</td>\n",
       "      <td>2021-09-25T21:13:05Z</td>\n",
       "      <td>20.687166</td>\n",
       "    </tr>\n",
       "    <tr>\n",
       "      <th>8</th>\n",
       "      <td>http://ifcb.caloos.org/del-mar-mooring/D202109...</td>\n",
       "      <td>2021-09-26T00:13:04Z</td>\n",
       "      <td>21.858083</td>\n",
       "    </tr>\n",
       "    <tr>\n",
       "      <th>9</th>\n",
       "      <td>http://ifcb.caloos.org/del-mar-mooring/D202109...</td>\n",
       "      <td>2021-09-26T03:13:04Z</td>\n",
       "      <td>22.177424</td>\n",
       "    </tr>\n",
       "    <tr>\n",
       "      <th>10</th>\n",
       "      <td>http://ifcb.caloos.org/del-mar-mooring/D202109...</td>\n",
       "      <td>2021-09-26T06:13:03Z</td>\n",
       "      <td>22.072640</td>\n",
       "    </tr>\n",
       "    <tr>\n",
       "      <th>11</th>\n",
       "      <td>http://ifcb.caloos.org/del-mar-mooring/D202109...</td>\n",
       "      <td>2021-09-26T09:13:03Z</td>\n",
       "      <td>21.962866</td>\n",
       "    </tr>\n",
       "    <tr>\n",
       "      <th>12</th>\n",
       "      <td>http://ifcb.caloos.org/del-mar-mooring/D202109...</td>\n",
       "      <td>2021-09-26T12:13:04Z</td>\n",
       "      <td>21.538742</td>\n",
       "    </tr>\n",
       "    <tr>\n",
       "      <th>13</th>\n",
       "      <td>http://ifcb.caloos.org/del-mar-mooring/D202109...</td>\n",
       "      <td>2021-09-26T15:13:03Z</td>\n",
       "      <td>21.538742</td>\n",
       "    </tr>\n",
       "    <tr>\n",
       "      <th>14</th>\n",
       "      <td>http://ifcb.caloos.org/del-mar-mooring/D202109...</td>\n",
       "      <td>2021-09-26T18:13:03Z</td>\n",
       "      <td>21.645189</td>\n",
       "    </tr>\n",
       "    <tr>\n",
       "      <th>15</th>\n",
       "      <td>http://ifcb.caloos.org/del-mar-mooring/D202109...</td>\n",
       "      <td>2021-09-26T21:13:03Z</td>\n",
       "      <td>21.858083</td>\n",
       "    </tr>\n",
       "  </tbody>\n",
       "</table>\n",
       "</div>"
      ],
      "text/plain": [
       "                                                  pid                  date  \\\n",
       "0   http://ifcb.caloos.org/del-mar-mooring/D202109...  2021-09-25T00:13:02Z   \n",
       "1   http://ifcb.caloos.org/del-mar-mooring/D202109...  2021-09-25T03:13:03Z   \n",
       "2   http://ifcb.caloos.org/del-mar-mooring/D202109...  2021-09-25T06:13:03Z   \n",
       "3   http://ifcb.caloos.org/del-mar-mooring/D202109...  2021-09-25T09:13:03Z   \n",
       "4   http://ifcb.caloos.org/del-mar-mooring/D202109...  2021-09-25T12:13:06Z   \n",
       "5   http://ifcb.caloos.org/del-mar-mooring/D202109...  2021-09-25T15:13:04Z   \n",
       "6   http://ifcb.caloos.org/del-mar-mooring/D202109...  2021-09-25T18:13:04Z   \n",
       "7   http://ifcb.caloos.org/del-mar-mooring/D202109...  2021-09-25T21:13:05Z   \n",
       "8   http://ifcb.caloos.org/del-mar-mooring/D202109...  2021-09-26T00:13:04Z   \n",
       "9   http://ifcb.caloos.org/del-mar-mooring/D202109...  2021-09-26T03:13:04Z   \n",
       "10  http://ifcb.caloos.org/del-mar-mooring/D202109...  2021-09-26T06:13:03Z   \n",
       "11  http://ifcb.caloos.org/del-mar-mooring/D202109...  2021-09-26T09:13:03Z   \n",
       "12  http://ifcb.caloos.org/del-mar-mooring/D202109...  2021-09-26T12:13:04Z   \n",
       "13  http://ifcb.caloos.org/del-mar-mooring/D202109...  2021-09-26T15:13:03Z   \n",
       "14  http://ifcb.caloos.org/del-mar-mooring/D202109...  2021-09-26T18:13:03Z   \n",
       "15  http://ifcb.caloos.org/del-mar-mooring/D202109...  2021-09-26T21:13:03Z   \n",
       "\n",
       "    temperature  \n",
       "0     20.795277  \n",
       "1     21.325848  \n",
       "2     21.645189  \n",
       "3     21.432295  \n",
       "4     21.219401  \n",
       "5     20.687166  \n",
       "6     20.687166  \n",
       "7     20.687166  \n",
       "8     21.858083  \n",
       "9     22.177424  \n",
       "10    22.072640  \n",
       "11    21.962866  \n",
       "12    21.538742  \n",
       "13    21.538742  \n",
       "14    21.645189  \n",
       "15    21.858083  "
      ]
     },
     "execution_count": 50,
     "metadata": {},
     "output_type": "execute_result"
    }
   ],
   "source": [
    "test"
   ]
  },
  {
   "cell_type": "code",
   "execution_count": null,
   "metadata": {},
   "outputs": [],
   "source": []
  }
 ],
 "metadata": {
  "kernelspec": {
   "display_name": "Python 3 (ipykernel)",
   "language": "python",
   "name": "python3"
  },
  "language_info": {
   "codemirror_mode": {
    "name": "ipython",
    "version": 3
   },
   "file_extension": ".py",
   "mimetype": "text/x-python",
   "name": "python",
   "nbconvert_exporter": "python",
   "pygments_lexer": "ipython3",
   "version": "3.9.13"
  }
 },
 "nbformat": 4,
 "nbformat_minor": 4
}